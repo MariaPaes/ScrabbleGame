{
 "cells": [
  {
   "cell_type": "code",
   "execution_count": null,
   "metadata": {},
   "outputs": [],
   "source": [
    "from IPython.core.display import clear_output\n",
    "from time import sleep\n",
    "\n",
    "\n",
    "scores = {\"a\": 1, \"c\": 3, \"b\": 3, \"e\": 1, \"d\": 2, \"g\": 2,\n",
    "         \"f\": 4, \"i\": 1, \"h\": 4, \"k\": 5, \"j\": 8, \"m\": 3,\n",
    "         \"l\": 1, \"o\": 1, \"n\": 1, \"q\": 10, \"p\": 3, \"s\": 1,\n",
    "         \"r\": 1, \"u\": 1, \"t\": 1, \"w\": 4, \"v\": 4, \"y\": 4,\n",
    "         \"x\": 8, \"z\": 10}\n",
    "\n",
    "class Game:\n",
    "\n",
    "    def __init__(self, scores):\n",
    "        self.scores = scores\n",
    "        self.get_score()\n",
    "\n",
    "    def get_score(self):\n",
    "        palavraDesejada = input(\"Digite aqui a palavra você deseja verificar o score: \").lower()\n",
    "        score = 0\n",
    "\n",
    "        for cont in palavraDesejada:\n",
    "          if cont in self.scores:\n",
    "            score += self.scores[cont]\n",
    "        print(palavraDesejada, \" tem \", score, \" pontos.\")\n",
    "\n",
    "        self.loop()\n",
    "\n",
    "    def loop(self):\n",
    "      respostaLoop = input(\"\\nDeseja verificar a pontuação de alguma outra palavra? (sim / nao): \").lower()\n",
    "      if (respostaLoop == \"sim\") or (respostaLoop == \"s\"):\n",
    "        sleep(5)\n",
    "        clear_output()\n",
    "        novaLista = Game(self.scores)\n",
    "      elif (respostaLoop == \"nao\") or (respostaLoop == \"n\"):\n",
    "        print(\"\\nOk. Até a próxima!\")\n",
    "      else:\n",
    "        print(\"\\nEntrada inválida. Até a próxima!\")\n",
    "\n",
    "game = Game(scores)"
   ]
  }
 ],
 "metadata": {
  "language_info": {
   "name": "python"
  }
 },
 "nbformat": 4,
 "nbformat_minor": 2
}
